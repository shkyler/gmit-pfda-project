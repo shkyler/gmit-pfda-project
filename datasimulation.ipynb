{
 "cells": [
  {
   "cell_type": "markdown",
   "metadata": {},
   "source": [
    "<p align=\"center\">\n",
    "  <img src=\"img/GMITLOGO.jpg\" width=\"500\"/></p>"
   ]
  },
  {
   "cell_type": "markdown",
   "metadata": {},
   "source": [
    "# GMIT, H.Dip in Data Analytics, Programming for Data Analysis Project 2018"
   ]
  },
  {
   "cell_type": "markdown",
   "metadata": {},
   "source": [
    "## 1. Introduction\n",
    "### 1.1 Project Objective\n",
    "\n",
    "## 2. Overview of the Malting Process\n",
    "### Processing stages\n",
    "#### Harvesting\n",
    "#### Drying and Storage\n",
    "#### Barley Selection\n",
    "#### Steeping\n",
    "#### Germination\n",
    "#### Kilning\n",
    "#### Malt Analysis\n",
    "\n",
    "## 3. Data Set\n",
    "### Intro to my data set\n",
    "### To include - Malt Type, Barley Variety, Percentage Protein, PSY, Extract\n",
    "### Analyse real data to understand the relationship between Protein and PSY/ Extract per Barley Variety\n",
    "### Record the relationships\n",
    "\n",
    "## 4. Data Simulation\n",
    "### Generate 200 Data points\n",
    "### Split between brewing/distlling to remain as the original data set\n",
    "### Barley variety per malt type to be the same\n",
    "### Brewing / Distilling TPd to be distributed as per our original set\n",
    "### Relationships between TPd and PSY and EX to be simulated based on Step 3\n",
    "\n",
    "## 5. Discussion\n",
    "\n",
    "## 6. Conclusion\n"
   ]
  },
  {
   "cell_type": "markdown",
   "metadata": {},
   "source": [
    "## References\n",
    "\n",
    "1. [1] Author. Title. (_link_)"
   ]
  },
  {
   "cell_type": "code",
   "execution_count": null,
   "metadata": {},
   "outputs": [],
   "source": []
  }
 ],
 "metadata": {
  "kernelspec": {
   "display_name": "Python 3",
   "language": "python",
   "name": "python3"
  },
  "language_info": {
   "codemirror_mode": {
    "name": "ipython",
    "version": 3
   },
   "file_extension": ".py",
   "mimetype": "text/x-python",
   "name": "python",
   "nbconvert_exporter": "python",
   "pygments_lexer": "ipython3",
   "version": "3.6.6"
  }
 },
 "nbformat": 4,
 "nbformat_minor": 2
}
