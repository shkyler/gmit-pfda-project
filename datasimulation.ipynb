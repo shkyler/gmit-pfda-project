{
 "cells": [
  {
   "cell_type": "markdown",
   "metadata": {},
   "source": [
    "<p align=\"center\">\n",
    "  <img src=\"img/GMITLOGO.jpg\" width=\"500\"/></p>"
   ]
  },
  {
   "cell_type": "markdown",
   "metadata": {},
   "source": [
    "# GMIT, H.Dip in Data Analytics, Programming for Data Analysis Project 2018"
   ]
  },
  {
   "cell_type": "markdown",
   "metadata": {},
   "source": [
    "## 1. Introduction\n",
    "\n",
    "This repository contains all of the files pertaining to my 2018 project submission for the Programming for Data Analysis module of the GMIT H.Dip program in Data Analytics. All of the work contained within this repository was carried out over the course of a 4 week period in November and December 2018. This Jupyter notebook [1] contains the complete documentation for the project."
   ]
  },
  {
   "cell_type": "markdown",
   "metadata": {},
   "source": [
    "### 1.1 Project objective\n",
    "\n",
    "The objective of this project is to sythesise a data set based on some real world phenomenon. This requires investigation in to the pheonmenon and then using  the `numpy.random` package in Python [2] to simulated some data based on this. The problem statement for the assignment is as follows [3]:\n",
    "\n",
    "1. Choose a real-world phenomenon that can be measured and for which you could collect at least one-hundred data points across at least four different variables.\n",
    "1. Investigate the types of variables involved, their likely distributions, and their relationships with each other.\n",
    "1. Synthesise/simulate a data set as closely matching their properties as possible.\n",
    "1. Detail your research and implement the simulation in a Jupyter notebook – the data set itself can simply be displayed in an output cell within the notebook."
   ]
  },
  {
   "cell_type": "markdown",
   "metadata": {},
   "source": [
    "### 1.2 Choice of real world phenomenon\n",
    "\n",
    "I am currently working in operations at a malt production facility in Ireland. Malting is a process whereby raw cereal grains (barley mainly) are re-hydrated to siumlated planting in soil, and then let germinate for a number of days. During this germination process the cellular structure of the grain is modified, releasing sugars. The grain is then kilned to stop the germination process while drying the grain, fixing the properties of the grain, and improving the colour and flavour characterisitcs of the final product. \n",
    "\n",
    "Worldwide, the largest consumers of malted barley are the brewing and distilling industries [4], using 96% of all malt produced. The most important property of any brewing or distilling malt is its *extract potential* which determines how much sugar is avail for conversion to alcohol in the brewing/distilling process [5]. Distillers are particularly interested in *spirit yield* to determine how much many litres of alcohol they are likely to get from each tonne of malt purchased.\n",
    "\n",
    "The maltsters role in this process is to take a natural raw material and create a consistent product, which maximises the extract potential and spirit yield for their customers. There are many factors in the process which can influence the final extract potential and spirit yield. For this project we are only going to consider the relationship between the protein levels in the raw barley and the final extacts and predicted spirit yields (PSY)\n",
    "\n",
    "### 1.3 Plan for the project\n",
    "\n",
    "The plan for this project is as follows:\n",
    "1. Section 2 will give an a brief introduction to the malting process, and define the important variables for this project\n",
    "1. In Section 3 I will analyse an existing dataset to summarise the distributions of the various variables and the relationships between\n",
    "1. In Section 4 I will systhesise a dataset using the relationship and distributions defined in Section 3\n",
    "1. Section 5 will cover some rudimentary analysis of the sythesised dataset\n",
    "1. The project will be concluded in Section 6"
   ]
  },
  {
   "cell_type": "markdown",
   "metadata": {},
   "source": [
    "## 2. Overview of the Malting Process\n",
    "### Processing stages\n",
    "#### Barley Selection\n",
    "#### Harvesting\n",
    "#### Drying and Storage\n",
    "#### Steeping\n",
    "#### Germination\n",
    "#### Kilning\n",
    "#### Malt Analysis\n",
    "\n",
    "## 3. Data Set\n",
    "### Intro to my data set\n",
    "### To include - Malt Type, Barley Variety, Percentage Protein, PSY, Extract\n",
    "### Analyse real data to understand the relationship between Protein and PSY/ Extract per Barley Variety\n",
    "### Record the relationships\n",
    "\n",
    "## 4. Data Simulation\n",
    "### Generate 200 Data points\n",
    "### Split between brewing/distlling to remain as the original data set\n",
    "### Barley variety per malt type to be the same\n",
    "### Brewing / Distilling TPd to be distributed as per our original set\n",
    "### Relationships between TPd and PSY and EX to be simulated based on Step 3\n",
    "\n",
    "## 5. Discussion\n",
    "\n",
    "## 6. Conclusion\n"
   ]
  },
  {
   "cell_type": "markdown",
   "metadata": {},
   "source": [
    "## References\n",
    "\n",
    "1. [1] Project Jupyter. Project Jupyter Home. (_https://www.jupyter.org/_)\n",
    "1. [2] Numpy Deveolpment Team. Numpy Random Sampling (`numpy.random`). (_https://docs.scipy.org/doc/numpy-1.15.1/reference/routines.random.html_)\n",
    "1. [3] Dr. Ian McLoughlin. GMIT. Project 2018: Programming for Data Analysis. (*https://github.com/ianmcloughlin/progda-project-2018/raw/master/project.pdf*)\n",
    "1. [4] Ivor Murrell. Malt, Unravelling the Mystery. (*http://www.ukmalt.com/malt-unravelling-mystery*)\n",
    "1. [5] The Institute of Brewing and Distilling. General Certificate in Malting (pp. 68-69).  (*http://www.ibdlearningzone.org.uk/article/show/pdf/1126/*)"
   ]
  },
  {
   "cell_type": "code",
   "execution_count": null,
   "metadata": {},
   "outputs": [],
   "source": []
  }
 ],
 "metadata": {
  "kernelspec": {
   "display_name": "Python 3",
   "language": "python",
   "name": "python3"
  },
  "language_info": {
   "codemirror_mode": {
    "name": "ipython",
    "version": 3
   },
   "file_extension": ".py",
   "mimetype": "text/x-python",
   "name": "python",
   "nbconvert_exporter": "python",
   "pygments_lexer": "ipython3",
   "version": "3.6.6"
  }
 },
 "nbformat": 4,
 "nbformat_minor": 2
}
